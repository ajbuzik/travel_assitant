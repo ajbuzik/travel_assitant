{
 "cells": [
  {
   "cell_type": "code",
   "execution_count": 1,
   "id": "2c820e7f",
   "metadata": {},
   "outputs": [
    {
     "name": "stderr",
     "output_type": "stream",
     "text": [
      "c:\\Users\\malgo\\.virtualenvs\\travel_assitant-sAPdwvgP\\Lib\\site-packages\\tqdm\\auto.py:21: TqdmWarning: IProgress not found. Please update jupyter and ipywidgets. See https://ipywidgets.readthedocs.io/en/stable/user_install.html\n",
      "  from .autonotebook import tqdm as notebook_tqdm\n"
     ]
    }
   ],
   "source": [
    "import minsearch\n",
    "import pandas as pd\n",
    "from dotenv import load_dotenv\n",
    "import os\n",
    "from openai import OpenAI\n",
    "from tqdm.auto import tqdm\n",
    "import math\n",
    "from qdrant_client.http.models import ScoredPoint \n",
    "load_dotenv()\n",
    "import optuna\n",
    "from sklearn.model_selection import train_test_split\n",
    "\n",
    "from minsearch import VectorSearch\n",
    "from sklearn.feature_extraction.text import TfidfVectorizer\n",
    "from sklearn.decomposition import TruncatedSVD\n",
    "from sklearn.pipeline import make_pipeline\n",
    "\n",
    "# docker run -p 6333:6333 -p 6334:6334 -v \"${PWD}\\qdrant_storage:/qdrant/storage\" qdrant/qdrant\n",
    "from qdrant_client import QdrantClient, models\n",
    "OPENAI_API_KEY = os.getenv(\"OPENAI_API_KEY\")"
   ]
  },
  {
   "cell_type": "code",
   "execution_count": 2,
   "id": "bbf6b1a6",
   "metadata": {},
   "outputs": [],
   "source": [
    "\n",
    "poi_data = pd.read_csv('../data/krakow_pois_selected.csv')\n",
    "documents = poi_data.to_dict(orient='records')\n",
    "\n",
    "df_question = pd.read_csv(\"../data/ground-truth-retrieval.csv\")\n",
    "ground_truth_test, ground_truth_valid = train_test_split(\n",
    "    df_question,\n",
    "    test_size=0.3, \n",
    "    random_state=123\n",
    ")\n",
    "\n",
    "\n",
    "ground_truth_test = ground_truth_test.to_dict(orient='records')\n",
    "ground_truth_valid = ground_truth_valid.to_dict(orient='records')"
   ]
  },
  {
   "cell_type": "code",
   "execution_count": 3,
   "id": "c0980613",
   "metadata": {},
   "outputs": [],
   "source": [
    "text_columns = ['name','amenity','leisure','natural','tourism','historic','wiki_summary_en']"
   ]
  },
  {
   "cell_type": "code",
   "execution_count": 4,
   "id": "bfcc3110",
   "metadata": {},
   "outputs": [],
   "source": [
    "def hit_rate(relevance_total):\n",
    "    \"\"\"\n",
    "    Calculate the Hit Rate for a set of ranked results.\n",
    "\n",
    "    The Hit Rate measures the proportion of queries for which at least one \n",
    "    relevant item is present in the returned results, regardless of its rank.\n",
    "\n",
    "    Args:\n",
    "        relevance_total (list of list of bool): \n",
    "            A list where each sublist corresponds to a single query's ranked \n",
    "            results. Each boolean in a sublist indicates whether the result at \n",
    "            that rank is relevant (True) or not (False).\n",
    "\n",
    "    Returns:\n",
    "        float: Hit Rate value between 0 and 1.\n",
    "    \"\"\"\n",
    "    cnt = 0\n",
    "    for line in relevance_total:\n",
    "        if True in line:\n",
    "            cnt += 1\n",
    "    return cnt / len(relevance_total)\n"
   ]
  },
  {
   "cell_type": "code",
   "execution_count": 5,
   "id": "859f3df3",
   "metadata": {},
   "outputs": [],
   "source": [
    "\n",
    "def mrr(relevance_total):\n",
    "    \"\"\"\n",
    "    Calculate the Mean Reciprocal Rank (MRR) for a set of ranked results.\n",
    "\n",
    "    MRR measures the average reciprocal rank of the first relevant result \n",
    "    across queries. If a query has multiple relevant results, only the first \n",
    "    relevant result contributes to the score.\n",
    "\n",
    "    Args:\n",
    "        relevance_total (list of list of bool): \n",
    "            A list where each sublist corresponds to a single query's ranked \n",
    "            results. Each boolean in a sublist indicates whether the result at \n",
    "            that rank is relevant (True) or not (False).\n",
    "\n",
    "    Returns:\n",
    "        float: MRR value between 0 and 1.\n",
    "    \"\"\"\n",
    "    total_score = 0.0\n",
    "\n",
    "    for line in relevance_total:\n",
    "        for rank in range(len(line)):\n",
    "            if line[rank] == True:\n",
    "                total_score = total_score + 1 / (rank + 1)\n",
    "                break\n",
    "    return total_score / len(relevance_total)\n"
   ]
  },
  {
   "cell_type": "code",
   "execution_count": 6,
   "id": "953b4d68",
   "metadata": {},
   "outputs": [],
   "source": [
    "\n",
    "def recall_at_k(relevance_total, k=1):\n",
    "    \"\"\"\n",
    "    Calculate Recall@k for a set of ranked results.\n",
    "\n",
    "    Args:\n",
    "        relevance_total (list of list of int or bool):\n",
    "            A list where each sublist corresponds to a single query's ranked results.\n",
    "            Each element indicates relevance of a result (1/True = relevant, 0/False = not relevant).\n",
    "        k (int):\n",
    "            Cutoff rank.\n",
    "\n",
    "    Returns:\n",
    "        float: Average Recall@k score across all queries (0–1).\n",
    "    \"\"\"\n",
    "    scores = []\n",
    "    for relevances in relevance_total:\n",
    "        total_relevant = sum(relevances)\n",
    "        if total_relevant == 0:\n",
    "            scores.append(0.0)  # brak dokumentów istotnych → recall = 0\n",
    "            continue\n",
    "\n",
    "        retrieved_relevant = sum(relevances[:k])\n",
    "        scores.append(retrieved_relevant / total_relevant)\n",
    "\n",
    "    return sum(scores) / len(scores) if scores else 0.0\n",
    "\n",
    "\n"
   ]
  },
  {
   "cell_type": "code",
   "execution_count": 7,
   "id": "687fd524",
   "metadata": {},
   "outputs": [],
   "source": [
    "\n",
    "def ndcg(relevance_total, k=None):\n",
    "    \"\"\"\n",
    "    Calculate the Normalized Discounted Cumulative Gain (nDCG) at rank k.\n",
    "\n",
    "    Args:\n",
    "        relevance_total (list of list of int):\n",
    "            A list where each sublist corresponds to a single query's ranked results.\n",
    "            Each value in a sublist indicates the relevance score of the result at that rank.\n",
    "            (0 = not relevant, 1 = relevant, or graded relevance if available).\n",
    "        k (int, optional):\n",
    "            The rank cutoff. If None, considers the full list.\n",
    "\n",
    "    Returns:\n",
    "        float: Average nDCG score across all queries (0–1).\n",
    "    \"\"\"\n",
    "    def dcg(relevances, k):\n",
    "        \"\"\"Compute DCG at rank k\"\"\"\n",
    "        return sum(\n",
    "            (rel / math.log2(idx + 2))  # idx + 2 because log2(1) is undefined\n",
    "            for idx, rel in enumerate(relevances[:k])\n",
    "        )\n",
    "\n",
    "    scores = []\n",
    "    for relevances in relevance_total:\n",
    "        # if k not provided, take all\n",
    "        k_val = k if k is not None else len(relevances)\n",
    "\n",
    "        ideal_relevances = sorted(relevances, reverse=True)\n",
    "        idcg = dcg(ideal_relevances, k_val)\n",
    "        actual_dcg = dcg(relevances, k_val)\n",
    "\n",
    "        score = (actual_dcg / idcg) if idcg > 0 else 0.0\n",
    "        scores.append(score)\n",
    "\n",
    "    return sum(scores) / len(scores) if scores else 0.0\n",
    "\n",
    "\n",
    "\n",
    "# DataFrame with metrics\n",
    "df_metrics = pd.DataFrame({\"method\" : [], \"hit_rate\": [],  \"mrr\": [],\"recall_at_k\": [],'ndcg': []})"
   ]
  },
  {
   "cell_type": "code",
   "execution_count": 8,
   "id": "265fa52b",
   "metadata": {},
   "outputs": [],
   "source": [
    "def is_qdrant_query_response(obj):\n",
    "    return 'QueryResponse' in str(type(obj))"
   ]
  },
  {
   "cell_type": "code",
   "execution_count": 9,
   "id": "5af5ee5e",
   "metadata": {},
   "outputs": [],
   "source": [
    "def evaluate(ground_truth, search_function):\n",
    "    \"\"\"\n",
    "    Run queries through a search function and record relevance results.\n",
    "\n",
    "    For each query in `ground_truth`, this calls `search_function` and\n",
    "    produces a list of booleans indicating whether each retrieved document's\n",
    "    ID matches the query's correct ID. Supports both Qdrant results and plain\n",
    "    list/dict results.\n",
    "\n",
    "    Args:\n",
    "        ground_truth (list of dict): Queries with a correct 'id'.\n",
    "        search_function (callable): Function returning ranked search results.\n",
    "\n",
    "    Returns:\n",
    "        list[list[bool]]: Per-query relevance lists for metric calculations.\n",
    "    \"\"\"\n",
    "    \n",
    "    relevance_total = []\n",
    "\n",
    "    for q in tqdm(ground_truth):\n",
    "        doc_id = q['id']\n",
    "        results = search_function(q)\n",
    "\n",
    "        if is_qdrant_query_response(results):\n",
    "            relevance = [doc_id == d.id for d in results.points]\n",
    "        elif isinstance(results, list) and len(results) > 0 and isinstance(results[0], ScoredPoint): \n",
    "            relevance = [doc_id == d.id for d in results]\n",
    "        else: \n",
    "            relevance = [d['id'] == doc_id for d in results]\n",
    "\n",
    "        relevance_total.append(relevance)\n",
    "\n",
    "\n",
    "    return {\n",
    "        'hit_rate': hit_rate(relevance_total),\n",
    "        'mrr': mrr(relevance_total),\n",
    "        'recall_at_k': recall_at_k(relevance_total),\n",
    "        'ndcg': ndcg(relevance_total)\n",
    "    }\n"
   ]
  },
  {
   "cell_type": "markdown",
   "id": "872d2a4d",
   "metadata": {},
   "source": [
    "## Minsearch"
   ]
  },
  {
   "cell_type": "code",
   "execution_count": 10,
   "id": "67d7d559",
   "metadata": {},
   "outputs": [
    {
     "data": {
      "text/plain": [
       "<minsearch.minsearch.Index at 0x1c87ad93cb0>"
      ]
     },
     "execution_count": 10,
     "metadata": {},
     "output_type": "execute_result"
    }
   ],
   "source": [
    "index = minsearch.Index(\n",
    "    text_fields=text_columns,keyword_fields=['id'])\n",
    "index.fit(documents)"
   ]
  },
  {
   "cell_type": "code",
   "execution_count": 11,
   "id": "168f994c",
   "metadata": {},
   "outputs": [],
   "source": [
    "# Recall@k and nDCG are complementary metrics for evaluating retrieval.\n",
    "# - Recall@k checks whether all relevant documents are included in the top-k results\n",
    "#   (coverage of relevant items).\n",
    "# - nDCG measures how well the retrieved documents are ranked,\n",
    "#   giving higher scores to relevant items appearing earlier in the list.\n",
    "# Using both together ensures that the system not only finds the right documents,\n",
    "# but also presents them in a useful order."
   ]
  },
  {
   "cell_type": "code",
   "execution_count": 12,
   "id": "0581d5ea",
   "metadata": {},
   "outputs": [
    {
     "name": "stderr",
     "output_type": "stream",
     "text": [
      "[I 2025-09-10 13:39:27,344] A new study created in memory with name: no-name-59ec14b4-a767-4974-9003-f3ac1b2813e8\n",
      "100%|██████████| 1002/1002 [00:03<00:00, 308.08it/s]\n",
      "[I 2025-09-10 13:39:30,606] Trial 0 finished with values: [0.4720558882235529, 0.5977333501461435] and parameters: {'name': 3, 'amenity': 1, 'leisure': 3, 'natural': 3, 'tourism': 1, 'historic': 3, 'wiki_summary_en': 2}.\n",
      "100%|██████████| 1002/1002 [00:03<00:00, 306.00it/s]\n",
      "[I 2025-09-10 13:39:33,886] Trial 1 finished with values: [0.5449101796407185, 0.6404467208801998] and parameters: {'name': 3, 'amenity': 1, 'leisure': 1, 'natural': 2, 'tourism': 2, 'historic': 0, 'wiki_summary_en': 3}.\n",
      "100%|██████████| 1002/1002 [00:03<00:00, 308.17it/s]\n",
      "[I 2025-09-10 13:39:37,144] Trial 2 finished with values: [0.2714570858283433, 0.3631365014165338] and parameters: {'name': 0, 'amenity': 3, 'leisure': 1, 'natural': 1, 'tourism': 3, 'historic': 1, 'wiki_summary_en': 3}.\n",
      "100%|██████████| 1002/1002 [00:03<00:00, 309.79it/s]\n",
      "[I 2025-09-10 13:39:40,384] Trial 3 finished with values: [0.5069860279441117, 0.6210582078052764] and parameters: {'name': 2, 'amenity': 3, 'leisure': 3, 'natural': 2, 'tourism': 1, 'historic': 1, 'wiki_summary_en': 2}.\n",
      "100%|██████████| 1002/1002 [00:03<00:00, 301.27it/s]\n",
      "[I 2025-09-10 13:39:43,718] Trial 4 finished with values: [0.4600798403193613, 0.5844648570943332] and parameters: {'name': 3, 'amenity': 0, 'leisure': 3, 'natural': 2, 'tourism': 2, 'historic': 3, 'wiki_summary_en': 2}.\n",
      "100%|██████████| 1002/1002 [00:03<00:00, 284.67it/s]\n",
      "[I 2025-09-10 13:39:47,245] Trial 5 finished with values: [0.43912175648702595, 0.5620170639615807] and parameters: {'name': 2, 'amenity': 3, 'leisure': 1, 'natural': 3, 'tourism': 3, 'historic': 3, 'wiki_summary_en': 1}.\n",
      "100%|██████████| 1002/1002 [00:03<00:00, 321.82it/s]\n",
      "[I 2025-09-10 13:39:50,365] Trial 6 finished with values: [0.42614770459081835, 0.5206595258401334] and parameters: {'name': 2, 'amenity': 3, 'leisure': 2, 'natural': 2, 'tourism': 0, 'historic': 1, 'wiki_summary_en': 0}.\n",
      "100%|██████████| 1002/1002 [00:03<00:00, 328.03it/s]\n",
      "[I 2025-09-10 13:39:53,426] Trial 7 finished with values: [0.32934131736526945, 0.3990878625536647] and parameters: {'name': 0, 'amenity': 3, 'leisure': 2, 'natural': 3, 'tourism': 1, 'historic': 0, 'wiki_summary_en': 2}.\n",
      "100%|██████████| 1002/1002 [00:03<00:00, 285.66it/s]\n",
      "[I 2025-09-10 13:39:56,940] Trial 8 finished with values: [0.46506986027944114, 0.5939705500552419] and parameters: {'name': 1, 'amenity': 2, 'leisure': 3, 'natural': 2, 'tourism': 0, 'historic': 3, 'wiki_summary_en': 1}.\n",
      "100%|██████████| 1002/1002 [00:03<00:00, 311.31it/s]\n",
      "[I 2025-09-10 13:40:00,164] Trial 9 finished with values: [0.4441117764471058, 0.5690012246594793] and parameters: {'name': 2, 'amenity': 3, 'leisure': 3, 'natural': 3, 'tourism': 0, 'historic': 3, 'wiki_summary_en': 1}.\n",
      "100%|██████████| 1002/1002 [00:03<00:00, 310.51it/s]\n",
      "[I 2025-09-10 13:40:03,397] Trial 10 finished with values: [0.5199600798403193, 0.6184466072180231] and parameters: {'name': 1, 'amenity': 1, 'leisure': 3, 'natural': 1, 'tourism': 2, 'historic': 0, 'wiki_summary_en': 1}.\n",
      "100%|██████████| 1002/1002 [00:03<00:00, 311.64it/s]\n",
      "[I 2025-09-10 13:40:06,618] Trial 11 finished with values: [0.5279441117764471, 0.6193677835016946] and parameters: {'name': 1, 'amenity': 0, 'leisure': 2, 'natural': 3, 'tourism': 2, 'historic': 0, 'wiki_summary_en': 1}.\n",
      "100%|██████████| 1002/1002 [00:03<00:00, 319.37it/s]\n",
      "[I 2025-09-10 13:40:09,761] Trial 12 finished with values: [0.4091816367265469, 0.5086305284246306] and parameters: {'name': 1, 'amenity': 0, 'leisure': 0, 'natural': 3, 'tourism': 0, 'historic': 2, 'wiki_summary_en': 0}.\n",
      "100%|██████████| 1002/1002 [00:03<00:00, 306.06it/s]\n",
      "[I 2025-09-10 13:40:13,041] Trial 13 finished with values: [0.4491017964071856, 0.5715538908496429] and parameters: {'name': 3, 'amenity': 1, 'leisure': 1, 'natural': 3, 'tourism': 2, 'historic': 3, 'wiki_summary_en': 1}.\n",
      "100%|██████████| 1002/1002 [00:03<00:00, 311.82it/s]\n",
      "[I 2025-09-10 13:40:16,260] Trial 14 finished with values: [0.27844311377245506, 0.36877656037199313] and parameters: {'name': 0, 'amenity': 1, 'leisure': 0, 'natural': 2, 'tourism': 1, 'historic': 3, 'wiki_summary_en': 2}.\n",
      "100%|██████████| 1002/1002 [00:03<00:00, 315.10it/s]\n",
      "[I 2025-09-10 13:40:19,446] Trial 15 finished with values: [0.46407185628742514, 0.5911269543480253] and parameters: {'name': 2, 'amenity': 3, 'leisure': 1, 'natural': 2, 'tourism': 2, 'historic': 3, 'wiki_summary_en': 2}.\n",
      "100%|██████████| 1002/1002 [00:03<00:00, 312.22it/s]\n",
      "[I 2025-09-10 13:40:22,661] Trial 16 finished with values: [0.5239520958083832, 0.620340818259601] and parameters: {'name': 2, 'amenity': 3, 'leisure': 3, 'natural': 2, 'tourism': 2, 'historic': 0, 'wiki_summary_en': 2}.\n",
      "100%|██████████| 1002/1002 [00:03<00:00, 302.76it/s]\n",
      "[I 2025-09-10 13:40:25,975] Trial 17 finished with values: [0.4560878243512974, 0.5341901106895404] and parameters: {'name': 2, 'amenity': 3, 'leisure': 0, 'natural': 0, 'tourism': 1, 'historic': 0, 'wiki_summary_en': 0}.\n",
      "100%|██████████| 1002/1002 [00:03<00:00, 321.33it/s]\n",
      "[I 2025-09-10 13:40:29,098] Trial 18 finished with values: [0.5099800399201597, 0.6392384732182953] and parameters: {'name': 2, 'amenity': 1, 'leisure': 0, 'natural': 2, 'tourism': 0, 'historic': 3, 'wiki_summary_en': 3}.\n",
      "100%|██████████| 1002/1002 [00:03<00:00, 305.93it/s]\n",
      "[I 2025-09-10 13:40:32,379] Trial 19 finished with values: [0.4940119760479042, 0.6105469124985623] and parameters: {'name': 1, 'amenity': 3, 'leisure': 3, 'natural': 2, 'tourism': 2, 'historic': 1, 'wiki_summary_en': 3}.\n"
     ]
    }
   ],
   "source": [
    "def minsearch_search(query,filter_dict={},num_results=10,boost={}):\n",
    "\n",
    "    results = index.search(\n",
    "        query=query,\n",
    "        filter_dict=filter_dict,\n",
    "        boost_dict=boost,\n",
    "        num_results=num_results\n",
    "    )\n",
    "\n",
    "    return results\n",
    "\n",
    "def objective(trial):\n",
    "    boost = {col: trial.suggest_int(col, 0, 3) for col in text_columns}\n",
    "    metrics = evaluate(ground_truth_valid, lambda q: minsearch_search(q['question'], boost=boost))\n",
    "    # To optimize both recall_at_k and ndcg as a multi-objective problem:\n",
    "    return metrics['recall_at_k'], metrics['ndcg']\n",
    "\n",
    "study = optuna.create_study(directions=[\"maximize\", \"maximize\"])\n",
    "study.optimize(objective, n_trials=20)\n",
    "\n"
   ]
  },
  {
   "cell_type": "code",
   "execution_count": 13,
   "id": "7d378c39",
   "metadata": {},
   "outputs": [],
   "source": [
    "# Show metrics and parameters for each trial\n",
    "trails_results = {}\n",
    "\n",
    "for trial in study.trials:\n",
    "    trails_results[trial.number] = {\n",
    "        \"recall_at_k\": trial.values[0],\n",
    "        \"ndcg\": trial.values[1],\n",
    "        \"params\": trial.params\n",
    "    }\n",
    "\n",
    "trails_results = pd.DataFrame(trails_results).T  "
   ]
  },
  {
   "cell_type": "code",
   "execution_count": 14,
   "id": "440a5606",
   "metadata": {},
   "outputs": [
    {
     "data": {
      "text/html": [
       "<div>\n",
       "<style scoped>\n",
       "    .dataframe tbody tr th:only-of-type {\n",
       "        vertical-align: middle;\n",
       "    }\n",
       "\n",
       "    .dataframe tbody tr th {\n",
       "        vertical-align: top;\n",
       "    }\n",
       "\n",
       "    .dataframe thead th {\n",
       "        text-align: right;\n",
       "    }\n",
       "</style>\n",
       "<table border=\"1\" class=\"dataframe\">\n",
       "  <thead>\n",
       "    <tr style=\"text-align: right;\">\n",
       "      <th></th>\n",
       "      <th>recall_at_k</th>\n",
       "      <th>ndcg</th>\n",
       "      <th>params</th>\n",
       "    </tr>\n",
       "  </thead>\n",
       "  <tbody>\n",
       "    <tr>\n",
       "      <th>0</th>\n",
       "      <td>0.54491</td>\n",
       "      <td>0.640447</td>\n",
       "      <td>{'name': 3, 'amenity': 1, 'leisure': 1, 'natur...</td>\n",
       "    </tr>\n",
       "    <tr>\n",
       "      <th>1</th>\n",
       "      <td>0.527944</td>\n",
       "      <td>0.619368</td>\n",
       "      <td>{'name': 1, 'amenity': 0, 'leisure': 2, 'natur...</td>\n",
       "    </tr>\n",
       "    <tr>\n",
       "      <th>2</th>\n",
       "      <td>0.523952</td>\n",
       "      <td>0.620341</td>\n",
       "      <td>{'name': 2, 'amenity': 3, 'leisure': 3, 'natur...</td>\n",
       "    </tr>\n",
       "    <tr>\n",
       "      <th>3</th>\n",
       "      <td>0.51996</td>\n",
       "      <td>0.618447</td>\n",
       "      <td>{'name': 1, 'amenity': 1, 'leisure': 3, 'natur...</td>\n",
       "    </tr>\n",
       "    <tr>\n",
       "      <th>4</th>\n",
       "      <td>0.50998</td>\n",
       "      <td>0.639238</td>\n",
       "      <td>{'name': 2, 'amenity': 1, 'leisure': 0, 'natur...</td>\n",
       "    </tr>\n",
       "    <tr>\n",
       "      <th>5</th>\n",
       "      <td>0.506986</td>\n",
       "      <td>0.621058</td>\n",
       "      <td>{'name': 2, 'amenity': 3, 'leisure': 3, 'natur...</td>\n",
       "    </tr>\n",
       "    <tr>\n",
       "      <th>6</th>\n",
       "      <td>0.494012</td>\n",
       "      <td>0.610547</td>\n",
       "      <td>{'name': 1, 'amenity': 3, 'leisure': 3, 'natur...</td>\n",
       "    </tr>\n",
       "    <tr>\n",
       "      <th>7</th>\n",
       "      <td>0.472056</td>\n",
       "      <td>0.597733</td>\n",
       "      <td>{'name': 3, 'amenity': 1, 'leisure': 3, 'natur...</td>\n",
       "    </tr>\n",
       "    <tr>\n",
       "      <th>8</th>\n",
       "      <td>0.46507</td>\n",
       "      <td>0.593971</td>\n",
       "      <td>{'name': 1, 'amenity': 2, 'leisure': 3, 'natur...</td>\n",
       "    </tr>\n",
       "    <tr>\n",
       "      <th>9</th>\n",
       "      <td>0.464072</td>\n",
       "      <td>0.591127</td>\n",
       "      <td>{'name': 2, 'amenity': 3, 'leisure': 1, 'natur...</td>\n",
       "    </tr>\n",
       "    <tr>\n",
       "      <th>10</th>\n",
       "      <td>0.46008</td>\n",
       "      <td>0.584465</td>\n",
       "      <td>{'name': 3, 'amenity': 0, 'leisure': 3, 'natur...</td>\n",
       "    </tr>\n",
       "    <tr>\n",
       "      <th>11</th>\n",
       "      <td>0.456088</td>\n",
       "      <td>0.53419</td>\n",
       "      <td>{'name': 2, 'amenity': 3, 'leisure': 0, 'natur...</td>\n",
       "    </tr>\n",
       "    <tr>\n",
       "      <th>12</th>\n",
       "      <td>0.449102</td>\n",
       "      <td>0.571554</td>\n",
       "      <td>{'name': 3, 'amenity': 1, 'leisure': 1, 'natur...</td>\n",
       "    </tr>\n",
       "    <tr>\n",
       "      <th>13</th>\n",
       "      <td>0.444112</td>\n",
       "      <td>0.569001</td>\n",
       "      <td>{'name': 2, 'amenity': 3, 'leisure': 3, 'natur...</td>\n",
       "    </tr>\n",
       "    <tr>\n",
       "      <th>14</th>\n",
       "      <td>0.439122</td>\n",
       "      <td>0.562017</td>\n",
       "      <td>{'name': 2, 'amenity': 3, 'leisure': 1, 'natur...</td>\n",
       "    </tr>\n",
       "    <tr>\n",
       "      <th>15</th>\n",
       "      <td>0.426148</td>\n",
       "      <td>0.52066</td>\n",
       "      <td>{'name': 2, 'amenity': 3, 'leisure': 2, 'natur...</td>\n",
       "    </tr>\n",
       "    <tr>\n",
       "      <th>16</th>\n",
       "      <td>0.409182</td>\n",
       "      <td>0.508631</td>\n",
       "      <td>{'name': 1, 'amenity': 0, 'leisure': 0, 'natur...</td>\n",
       "    </tr>\n",
       "    <tr>\n",
       "      <th>17</th>\n",
       "      <td>0.329341</td>\n",
       "      <td>0.399088</td>\n",
       "      <td>{'name': 0, 'amenity': 3, 'leisure': 2, 'natur...</td>\n",
       "    </tr>\n",
       "    <tr>\n",
       "      <th>18</th>\n",
       "      <td>0.278443</td>\n",
       "      <td>0.368777</td>\n",
       "      <td>{'name': 0, 'amenity': 1, 'leisure': 0, 'natur...</td>\n",
       "    </tr>\n",
       "    <tr>\n",
       "      <th>19</th>\n",
       "      <td>0.271457</td>\n",
       "      <td>0.363137</td>\n",
       "      <td>{'name': 0, 'amenity': 3, 'leisure': 1, 'natur...</td>\n",
       "    </tr>\n",
       "  </tbody>\n",
       "</table>\n",
       "</div>"
      ],
      "text/plain": [
       "   recall_at_k      ndcg                                             params\n",
       "0      0.54491  0.640447  {'name': 3, 'amenity': 1, 'leisure': 1, 'natur...\n",
       "1     0.527944  0.619368  {'name': 1, 'amenity': 0, 'leisure': 2, 'natur...\n",
       "2     0.523952  0.620341  {'name': 2, 'amenity': 3, 'leisure': 3, 'natur...\n",
       "3      0.51996  0.618447  {'name': 1, 'amenity': 1, 'leisure': 3, 'natur...\n",
       "4      0.50998  0.639238  {'name': 2, 'amenity': 1, 'leisure': 0, 'natur...\n",
       "5     0.506986  0.621058  {'name': 2, 'amenity': 3, 'leisure': 3, 'natur...\n",
       "6     0.494012  0.610547  {'name': 1, 'amenity': 3, 'leisure': 3, 'natur...\n",
       "7     0.472056  0.597733  {'name': 3, 'amenity': 1, 'leisure': 3, 'natur...\n",
       "8      0.46507  0.593971  {'name': 1, 'amenity': 2, 'leisure': 3, 'natur...\n",
       "9     0.464072  0.591127  {'name': 2, 'amenity': 3, 'leisure': 1, 'natur...\n",
       "10     0.46008  0.584465  {'name': 3, 'amenity': 0, 'leisure': 3, 'natur...\n",
       "11    0.456088   0.53419  {'name': 2, 'amenity': 3, 'leisure': 0, 'natur...\n",
       "12    0.449102  0.571554  {'name': 3, 'amenity': 1, 'leisure': 1, 'natur...\n",
       "13    0.444112  0.569001  {'name': 2, 'amenity': 3, 'leisure': 3, 'natur...\n",
       "14    0.439122  0.562017  {'name': 2, 'amenity': 3, 'leisure': 1, 'natur...\n",
       "15    0.426148   0.52066  {'name': 2, 'amenity': 3, 'leisure': 2, 'natur...\n",
       "16    0.409182  0.508631  {'name': 1, 'amenity': 0, 'leisure': 0, 'natur...\n",
       "17    0.329341  0.399088  {'name': 0, 'amenity': 3, 'leisure': 2, 'natur...\n",
       "18    0.278443  0.368777  {'name': 0, 'amenity': 1, 'leisure': 0, 'natur...\n",
       "19    0.271457  0.363137  {'name': 0, 'amenity': 3, 'leisure': 1, 'natur..."
      ]
     },
     "execution_count": 14,
     "metadata": {},
     "output_type": "execute_result"
    }
   ],
   "source": [
    "trails_results.sort_values(by=['recall_at_k', 'ndcg'], ascending=False).reset_index(drop=True)"
   ]
  },
  {
   "cell_type": "code",
   "execution_count": 15,
   "id": "8f86eb9e",
   "metadata": {},
   "outputs": [],
   "source": [
    "boost = trails_results.iloc[0]['params']"
   ]
  },
  {
   "cell_type": "code",
   "execution_count": 16,
   "id": "804d99db",
   "metadata": {},
   "outputs": [
    {
     "name": "stderr",
     "output_type": "stream",
     "text": [
      "100%|██████████| 2338/2338 [00:07<00:00, 313.08it/s]\n"
     ]
    }
   ],
   "source": [
    "\n",
    "minsearch_metrics = evaluate(ground_truth_test, lambda q: minsearch_search(q['question'],boost=boost))\n",
    "minsearch_metrics['function'] = 'minsearch_metrics'"
   ]
  },
  {
   "cell_type": "markdown",
   "id": "d7265306",
   "metadata": {},
   "source": [
    "## Vector search"
   ]
  },
  {
   "cell_type": "code",
   "execution_count": 17,
   "id": "1e7abcbf",
   "metadata": {},
   "outputs": [
    {
     "data": {
      "text/plain": [
       "<minsearch.vector.VectorSearch at 0x1c87c0bb380>"
      ]
     },
     "execution_count": 17,
     "metadata": {},
     "output_type": "execute_result"
    }
   ],
   "source": [
    "texts = []\n",
    "\n",
    "\n",
    "for doc in documents:\n",
    "    t = doc['name'] + ' ' + doc['amenity'] + ' ' + doc['leisure'] + ' ' + doc['natural'] + ' ' + doc['tourism'] + ' ' + doc['historic'] + ' ' + doc['wiki_summary_en']\n",
    "    texts.append(t)\n",
    "\n",
    "pipeline = make_pipeline(\n",
    "    TfidfVectorizer(min_df=3),\n",
    "    TruncatedSVD(n_components=128, random_state=1)\n",
    ")\n",
    "X = pipeline.fit_transform(texts)\n",
    "\n",
    "vindex = VectorSearch(keyword_fields={'id'})\n",
    "vindex.fit(X, documents)"
   ]
  },
  {
   "cell_type": "code",
   "execution_count": 18,
   "id": "2f928002",
   "metadata": {},
   "outputs": [],
   "source": [
    "\n",
    "def vector_search(query):\n",
    "\n",
    "    query = pipeline.transform([query])\n",
    "    results = vindex.search(\n",
    "        query_vector=query,\n",
    "        num_results=5\n",
    "    )\n",
    "\n",
    "    return results"
   ]
  },
  {
   "cell_type": "code",
   "execution_count": 19,
   "id": "f5eb792e",
   "metadata": {},
   "outputs": [
    {
     "name": "stderr",
     "output_type": "stream",
     "text": [
      "100%|██████████| 2338/2338 [00:03<00:00, 739.20it/s]\n"
     ]
    }
   ],
   "source": [
    "\n",
    "vector_search_metrics = evaluate(ground_truth_test, lambda q: vector_search(q['question']))\n",
    "vector_search_metrics['function'] = 'vector_search_tfidf_svd'\n"
   ]
  },
  {
   "cell_type": "markdown",
   "id": "a46f7818",
   "metadata": {},
   "source": [
    "docker pull qdrant/qdrant\n",
    "\n",
    "docker run -p 6333:6333 -p 6334:6334 \\\n",
    "   -v \"$(pwd)/qdrant_storage:/qdrant/storage:z\" \\\n",
    "   qdrant/qdrant"
   ]
  },
  {
   "cell_type": "code",
   "execution_count": 20,
   "id": "7367be93",
   "metadata": {},
   "outputs": [],
   "source": [
    "\n",
    "qdrant_client = QdrantClient(\"http://localhost:6333\")"
   ]
  },
  {
   "cell_type": "code",
   "execution_count": 21,
   "id": "4159ebc7",
   "metadata": {},
   "outputs": [],
   "source": [
    "\n",
    "EMBEDDING_DIMENSIONALITY = 512\n",
    "model_handle = \"jinaai/jina-embeddings-v2-small-en\""
   ]
  },
  {
   "cell_type": "code",
   "execution_count": 22,
   "id": "989e9a42",
   "metadata": {},
   "outputs": [
    {
     "data": {
      "text/plain": [
       "True"
      ]
     },
     "execution_count": 22,
     "metadata": {},
     "output_type": "execute_result"
    }
   ],
   "source": [
    "\n",
    "collection_name = \"vector_search_collection\"\n",
    "\n",
    "qdrant_client.delete_collection(collection_name)\n"
   ]
  },
  {
   "cell_type": "code",
   "execution_count": 23,
   "id": "77d46aab",
   "metadata": {},
   "outputs": [
    {
     "data": {
      "text/plain": [
       "True"
      ]
     },
     "execution_count": 23,
     "metadata": {},
     "output_type": "execute_result"
    }
   ],
   "source": [
    "\n",
    "# Create the collection with specified vector parameters\n",
    "qdrant_client.create_collection(\n",
    "    collection_name=collection_name,\n",
    "    vectors_config=models.VectorParams(\n",
    "        size=EMBEDDING_DIMENSIONALITY,  # Dimensionality of the vectors\n",
    "        distance=models.Distance.COSINE  # Distance metric for similarity search\n",
    "    )\n",
    ")"
   ]
  },
  {
   "cell_type": "code",
   "execution_count": 24,
   "id": "fa41912b",
   "metadata": {},
   "outputs": [],
   "source": [
    "points = []\n",
    "\n",
    "for doc in documents:\n",
    "\n",
    "    point = models.PointStruct(\n",
    "        id=doc['id'],\n",
    "        vector=models.Document(text= doc['name'] + ' ' + doc['amenity'] + ' ' + doc['leisure'] + ' ' + doc['natural'] + ' ' + doc['tourism'] + ' ' + doc['historic'] + ' ' + doc['wiki_summary_en'], model=model_handle), #embed text locally with \"jinaai/jina-embeddings-v2-small-en\" from FastEmbed\n",
    "        payload={\n",
    "            \"name\": doc['name'],\n",
    "            \"wiki_summary_en\": doc['wiki_summary_en'],\n",
    "            'id'    : doc['id'],\n",
    "        } #save all needed metadata fields\n",
    "    )\n",
    "    points.append(point)"
   ]
  },
  {
   "cell_type": "code",
   "execution_count": 25,
   "id": "da2ec39e",
   "metadata": {},
   "outputs": [
    {
     "data": {
      "text/plain": [
       "UpdateResult(operation_id=0, status=<UpdateStatus.COMPLETED: 'completed'>)"
      ]
     },
     "execution_count": 25,
     "metadata": {},
     "output_type": "execute_result"
    }
   ],
   "source": [
    "\n",
    "qdrant_client.upsert(\n",
    "    collection_name=collection_name,\n",
    "    points=points\n",
    ")"
   ]
  },
  {
   "cell_type": "code",
   "execution_count": 26,
   "id": "8e02155b",
   "metadata": {},
   "outputs": [],
   "source": [
    "\n",
    "def qdrant_vector_search(query, limit=5):\n",
    "\n",
    "    results = qdrant_client.query_points(\n",
    "        collection_name=collection_name,\n",
    "        query=models.Document( #embed the query text locally with \"jinaai/jina-embeddings-v2-small-en\"\n",
    "            text=query,\n",
    "            model=model_handle \n",
    "        ),\n",
    "        limit=limit, # top closest matches\n",
    "        with_payload=True #to get metadata in the results\n",
    "    )\n",
    "\n",
    "    return results"
   ]
  },
  {
   "cell_type": "code",
   "execution_count": 27,
   "id": "ea71070b",
   "metadata": {},
   "outputs": [
    {
     "name": "stderr",
     "output_type": "stream",
     "text": [
      "100%|██████████| 2338/2338 [00:37<00:00, 61.55it/s]\n"
     ]
    }
   ],
   "source": [
    "qdrant_vector_search_metrics = evaluate(ground_truth_test, lambda q: qdrant_vector_search(q['question']))\n",
    "qdrant_vector_search_metrics['function'] = 'qdrant_vector_search'"
   ]
  },
  {
   "cell_type": "markdown",
   "id": "4e062819",
   "metadata": {},
   "source": [
    "Hybrid search"
   ]
  },
  {
   "cell_type": "code",
   "execution_count": 28,
   "id": "644a3e14",
   "metadata": {},
   "outputs": [
    {
     "data": {
      "text/plain": [
       "True"
      ]
     },
     "execution_count": 28,
     "metadata": {},
     "output_type": "execute_result"
    }
   ],
   "source": [
    "qdrant_client.delete_collection('hybrid_search')\n"
   ]
  },
  {
   "cell_type": "code",
   "execution_count": 29,
   "id": "e497762c",
   "metadata": {},
   "outputs": [
    {
     "data": {
      "text/plain": [
       "True"
      ]
     },
     "execution_count": 29,
     "metadata": {},
     "output_type": "execute_result"
    }
   ],
   "source": [
    "\n",
    "qdrant_client.create_collection(\n",
    "    collection_name=\"hybrid_search\",\n",
    "    vectors_config={\n",
    "        # Named dense vector for jinaai/jina-embeddings-v2-small-en\n",
    "        \"jina-small\": models.VectorParams(\n",
    "            size=512,\n",
    "            distance=models.Distance.COSINE,\n",
    "        ),\n",
    "    },\n",
    "    sparse_vectors_config={\n",
    "        \"bm25\": models.SparseVectorParams(\n",
    "            modifier=models.Modifier.IDF,\n",
    "        )\n",
    "    }\n",
    ")"
   ]
  },
  {
   "cell_type": "code",
   "execution_count": 30,
   "id": "a9cae7ce",
   "metadata": {},
   "outputs": [
    {
     "data": {
      "text/plain": [
       "UpdateResult(operation_id=0, status=<UpdateStatus.COMPLETED: 'completed'>)"
      ]
     },
     "execution_count": 30,
     "metadata": {},
     "output_type": "execute_result"
    }
   ],
   "source": [
    "qdrant_client.upsert(\n",
    "    collection_name=\"hybrid_search\",\n",
    "    points=[\n",
    "        models.PointStruct(\n",
    "            id=doc['id'],\n",
    "            vector={\n",
    "                \"jina-small\": models.Document(\n",
    "                    text=doc['name'] + ' ' + doc['amenity'] + ' ' + doc['leisure'] + ' ' + doc['natural'] + ' ' + doc['tourism'] + ' ' + doc['historic'] + ' ' + doc['wiki_summary_en'],\n",
    "                    model=\"jinaai/jina-embeddings-v2-small-en\",\n",
    "                ),\n",
    "                \"bm25\": models.Document(\n",
    "                    text=doc['name'] + ' ' + doc['amenity'] + ' ' + doc['leisure'] + ' ' + doc['natural'] + ' ' + doc['tourism'] + ' ' + doc['historic'] + ' ' + doc['wiki_summary_en'],\n",
    "                    model=\"Qdrant/bm25\",\n",
    "                ),\n",
    "            },\n",
    "            payload={\n",
    "                \"name\": doc['name'],\n",
    "            \"wiki_summary_en\": doc['wiki_summary_en'],\n",
    "            'id'    : doc['id'],\n",
    "            }\n",
    "        )\n",
    "        for doc in documents\n",
    "    ]\n",
    ")\n"
   ]
  },
  {
   "cell_type": "code",
   "execution_count": 31,
   "id": "7d8ceeae",
   "metadata": {},
   "outputs": [],
   "source": [
    "def multi_stage_search(query: str, limit: int = 1) -> list[models.ScoredPoint]:\n",
    "    results = qdrant_client.query_points(\n",
    "        collection_name=\"hybrid_search\",\n",
    "        prefetch=[\n",
    "            models.Prefetch(\n",
    "                query=models.Document(\n",
    "                    text=query,\n",
    "                    model=\"jinaai/jina-embeddings-v2-small-en\",\n",
    "                ),\n",
    "                using=\"jina-small\",\n",
    "                # Prefetch ten times more results, then\n",
    "                # expected to return, so we can really rerank\n",
    "                limit=(10 * limit),\n",
    "            ),\n",
    "        ],\n",
    "        query=models.Document(\n",
    "            text=query,\n",
    "            model=\"Qdrant/bm25\", \n",
    "        ),\n",
    "        using=\"bm25\",\n",
    "        limit=limit,\n",
    "        with_payload=True,\n",
    "    )\n",
    "\n",
    "    return results.points"
   ]
  },
  {
   "cell_type": "code",
   "execution_count": 32,
   "id": "efcdf27b",
   "metadata": {},
   "outputs": [
    {
     "name": "stderr",
     "output_type": "stream",
     "text": [
      "100%|██████████| 2338/2338 [00:43<00:00, 53.74it/s]\n"
     ]
    }
   ],
   "source": [
    "multi_stage_search_metrics = evaluate(ground_truth_test, lambda q: multi_stage_search(q['question']))\n",
    "multi_stage_search_metrics['function'] = 'multi_stage_search'"
   ]
  },
  {
   "cell_type": "code",
   "execution_count": 33,
   "id": "2f402bee",
   "metadata": {},
   "outputs": [],
   "source": [
    "\n",
    "def rrf_search(query: str, limit: int = 1) -> list[models.ScoredPoint]:\n",
    "    results = qdrant_client.query_points(\n",
    "        collection_name=\"hybrid_search\",\n",
    "        prefetch=[\n",
    "            models.Prefetch(\n",
    "                query=models.Document(\n",
    "                    text=query,\n",
    "                    model=\"jinaai/jina-embeddings-v2-small-en\",\n",
    "                ),\n",
    "                using=\"jina-small\",\n",
    "                limit=(5 * limit),\n",
    "            ),\n",
    "            models.Prefetch(\n",
    "                query=models.Document(\n",
    "                    text=query,\n",
    "                    model=\"Qdrant/bm25\",\n",
    "                ),\n",
    "                using=\"bm25\",\n",
    "                limit=(5 * limit),\n",
    "            ),\n",
    "        ],\n",
    "        # Fusion query enables fusion on the prefetched results\n",
    "        query=models.FusionQuery(fusion=models.Fusion.RRF),\n",
    "        with_payload=True,\n",
    "    )\n",
    "\n",
    "    return results.points"
   ]
  },
  {
   "cell_type": "code",
   "execution_count": 34,
   "id": "55f04f25",
   "metadata": {},
   "outputs": [
    {
     "name": "stderr",
     "output_type": "stream",
     "text": [
      "100%|██████████| 2338/2338 [00:58<00:00, 39.95it/s]\n"
     ]
    }
   ],
   "source": [
    "rrf_search_metrics = evaluate(ground_truth_test, lambda q: rrf_search(q['question']))\n",
    "rrf_search_metrics['function'] = 'rrf_search'"
   ]
  },
  {
   "cell_type": "code",
   "execution_count": 35,
   "id": "152dc105",
   "metadata": {},
   "outputs": [],
   "source": [
    "df_results = pd.DataFrame([\n",
    "    minsearch_metrics,\n",
    "    vector_search_metrics,\n",
    "    qdrant_vector_search_metrics,\n",
    "    multi_stage_search_metrics,\n",
    "    rrf_search_metrics\n",
    "])"
   ]
  },
  {
   "cell_type": "code",
   "execution_count": null,
   "id": "0b9b227a",
   "metadata": {},
   "outputs": [
    {
     "data": {
      "text/html": [
       "<div>\n",
       "<style scoped>\n",
       "    .dataframe tbody tr th:only-of-type {\n",
       "        vertical-align: middle;\n",
       "    }\n",
       "\n",
       "    .dataframe tbody tr th {\n",
       "        vertical-align: top;\n",
       "    }\n",
       "\n",
       "    .dataframe thead th {\n",
       "        text-align: right;\n",
       "    }\n",
       "</style>\n",
       "<table border=\"1\" class=\"dataframe\">\n",
       "  <thead>\n",
       "    <tr style=\"text-align: right;\">\n",
       "      <th></th>\n",
       "      <th>hit_rate</th>\n",
       "      <th>mrr</th>\n",
       "      <th>recall_at_k</th>\n",
       "      <th>ndcg</th>\n",
       "      <th>function</th>\n",
       "    </tr>\n",
       "  </thead>\n",
       "  <tbody>\n",
       "    <tr>\n",
       "      <th>0</th>\n",
       "      <td>0.791702</td>\n",
       "      <td>0.691267</td>\n",
       "      <td>0.628743</td>\n",
       "      <td>0.716113</td>\n",
       "      <td>rrf_search</td>\n",
       "    </tr>\n",
       "    <tr>\n",
       "      <th>1</th>\n",
       "      <td>0.611206</td>\n",
       "      <td>0.611206</td>\n",
       "      <td>0.611206</td>\n",
       "      <td>0.611206</td>\n",
       "      <td>multi_stage_search</td>\n",
       "    </tr>\n",
       "    <tr>\n",
       "      <th>2</th>\n",
       "      <td>0.694183</td>\n",
       "      <td>0.622277</td>\n",
       "      <td>0.573995</td>\n",
       "      <td>0.640374</td>\n",
       "      <td>qdrant_vector_search</td>\n",
       "    </tr>\n",
       "    <tr>\n",
       "      <th>3</th>\n",
       "      <td>0.698460</td>\n",
       "      <td>0.542688</td>\n",
       "      <td>0.461078</td>\n",
       "      <td>0.580345</td>\n",
       "      <td>minsearch_metrics</td>\n",
       "    </tr>\n",
       "    <tr>\n",
       "      <th>4</th>\n",
       "      <td>0.434559</td>\n",
       "      <td>0.321607</td>\n",
       "      <td>0.252780</td>\n",
       "      <td>0.349857</td>\n",
       "      <td>vector_search_tfidf_svd</td>\n",
       "    </tr>\n",
       "  </tbody>\n",
       "</table>\n",
       "</div>"
      ],
      "text/plain": [
       "   hit_rate       mrr  recall_at_k      ndcg                 function\n",
       "0  0.791702  0.691267     0.628743  0.716113               rrf_search\n",
       "1  0.611206  0.611206     0.611206  0.611206       multi_stage_search\n",
       "2  0.694183  0.622277     0.573995  0.640374     qdrant_vector_search\n",
       "3  0.698460  0.542688     0.461078  0.580345        minsearch_metrics\n",
       "4  0.434559  0.321607     0.252780  0.349857  vector_search_tfidf_svd"
      ]
     },
     "execution_count": 36,
     "metadata": {},
     "output_type": "execute_result"
    }
   ],
   "source": [
    "df_results.sort_values(by=['recall_at_k', 'ndcg'], ascending=False).reset_index(drop=True)"
   ]
  },
  {
   "cell_type": "code",
   "execution_count": 37,
   "id": "c716eb5e",
   "metadata": {},
   "outputs": [],
   "source": [
    "df_results.to_csv('../data/retrieval_evaluation_results.csv', index=False)"
   ]
  }
 ],
 "metadata": {
  "kernelspec": {
   "display_name": "travel_assitant-sAPdwvgP",
   "language": "python",
   "name": "python3"
  },
  "language_info": {
   "codemirror_mode": {
    "name": "ipython",
    "version": 3
   },
   "file_extension": ".py",
   "mimetype": "text/x-python",
   "name": "python",
   "nbconvert_exporter": "python",
   "pygments_lexer": "ipython3",
   "version": "3.13.4"
  }
 },
 "nbformat": 4,
 "nbformat_minor": 5
}
