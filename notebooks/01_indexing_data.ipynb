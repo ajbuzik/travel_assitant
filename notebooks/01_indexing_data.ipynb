{
 "cells": [
  {
   "cell_type": "code",
   "execution_count": 1,
   "id": "2c820e7f",
   "metadata": {},
   "outputs": [],
   "source": [
    "import minsearch\n",
    "import pandas as pd\n",
    "from dotenv import load_dotenv\n",
    "import os\n",
    "from openai import OpenAI\n",
    "\n",
    "load_dotenv()\n",
    "\n",
    "OPENAI_API_KEY = os.getenv(\"OPENAI_API_KEY\")"
   ]
  },
  {
   "cell_type": "code",
   "execution_count": 2,
   "id": "bbf6b1a6",
   "metadata": {},
   "outputs": [],
   "source": [
    "df = pd.read_csv('../data/krakow_pois_for_rag.csv')\n",
    "\n",
    "text_columns = ['name','amenity','leisure','natural','tourism','historic','wiki_summary_en']"
   ]
  },
  {
   "cell_type": "code",
   "execution_count": 3,
   "id": "bfcc3110",
   "metadata": {},
   "outputs": [
    {
     "data": {
      "text/plain": [
       "[]"
      ]
     },
     "execution_count": 3,
     "metadata": {},
     "output_type": "execute_result"
    }
   ],
   "source": [
    "[col for col in df.columns if col =='poi_category']"
   ]
  },
  {
   "cell_type": "code",
   "execution_count": 3,
   "id": "18c41a63",
   "metadata": {},
   "outputs": [],
   "source": [
    "documents = df.to_dict(orient='records')"
   ]
  },
  {
   "cell_type": "code",
   "execution_count": 4,
   "id": "db1a934f",
   "metadata": {},
   "outputs": [],
   "source": [
    "index = minsearch.Index(\n",
    "    text_fields=text_columns,keyword_fields=['id'])"
   ]
  },
  {
   "cell_type": "code",
   "execution_count": 5,
   "id": "8bc33d6c",
   "metadata": {},
   "outputs": [
    {
     "data": {
      "text/plain": [
       "<minsearch.minsearch.Index at 0x2910a0e0980>"
      ]
     },
     "execution_count": 5,
     "metadata": {},
     "output_type": "execute_result"
    }
   ],
   "source": [
    "index.fit(documents)"
   ]
  },
  {
   "cell_type": "code",
   "execution_count": 6,
   "id": "0581d5ea",
   "metadata": {},
   "outputs": [],
   "source": [
    "query = 'what are some historical places to visit in krakow?'\n",
    "results = index.search(query)"
   ]
  },
  {
   "cell_type": "code",
   "execution_count": 7,
   "id": "ab173df8",
   "metadata": {},
   "outputs": [],
   "source": [
    "openai_client = OpenAI(api_key=OPENAI_API_KEY)\n"
   ]
  },
  {
   "cell_type": "code",
   "execution_count": 8,
   "id": "9e9379fc",
   "metadata": {},
   "outputs": [],
   "source": [
    "def search(query,filter_dict={},num_results=10,boost={}):\n",
    "\n",
    "    results = index.search(\n",
    "        query=query,\n",
    "        filter_dict=filter_dict,\n",
    "        boost_dict=boost,\n",
    "        num_results=num_results\n",
    "    )\n",
    "\n",
    "    return results"
   ]
  },
  {
   "cell_type": "code",
   "execution_count": 9,
   "id": "62fec583",
   "metadata": {},
   "outputs": [],
   "source": [
    "entry_template = \"\"\"\n",
    "\n",
    "phone : {phone}\n",
    "cemetery : {cemetery}\n",
    "emergency : {emergency}\n",
    "opening_hours : {opening_hours}\n",
    "website : {website}\n",
    "pets_allowed : {pets_allowed}\n",
    "geometry : {geometry}\n",
    "historic : {historic}\n",
    "wiki_summary_en : {wiki_summary_en}\n",
    "postal_code : {postal_code}\n",
    "toilets : {toilets}\n",
    "natural : {natural}\n",
    "description : {description}\n",
    "visiting_time : {visiting_time}\n",
    "leisure : {leisure}\n",
    "tourism : {tourism}\n",
    "public_transport : {public_transport}\n",
    "brand : {brand}\n",
    "alt_name : {alt_name}\n",
    "amenity : {amenity}\n",
    "reservation : {reservation}\n",
    "attraction : {attraction}\n",
    "highchair : {highchair}\n",
    "parking : {parking}\n",
    "swimming_pool : {swimming_pool}\n",
    "contact_phone : {contact_phone}\n",
    "community_centre : {community_centre}\n",
    "addr_street : {addr_street}\n",
    "contact_twitter : {contact_twitter}\n",
    "social_facility : {social_facility}\n",
    "contact_facebook : {contact_facebook}\n",
    "zoo : {zoo}\n",
    "email : {email}\n",
    "wheelchair : {wheelchair}\n",
    "cuisine : {cuisine}\n",
    "contact_website : {contact_website}\n",
    "internet_access : {internet_access}\n",
    "opening_hours_reception : {opening_hours_reception}\n",
    "guest_house : {guest_house}\n",
    "addr_city : {addr_city}\n",
    "contact_instagram : {contact_instagram}\n",
    "image : {image}\n",
    "location : {location}\n",
    "outdoor_seating : {outdoor_seating}\n",
    "museum : {museum}\n",
    "takeaway : {takeaway}\n",
    "smoking : {smoking}\n",
    "name : {name}\n",
    "id : {id} \"\"\".strip()"
   ]
  },
  {
   "cell_type": "code",
   "execution_count": null,
   "id": "f5a0680a",
   "metadata": {},
   "outputs": [],
   "source": [
    "def build_prompt(query, search_results):\n",
    "    prompt_template = \"\"\"\n",
    "You're a Krakow travel assistant (guide). Answer the QUESTION based on the CONTEXT.\n",
    "Data from Context is from Krakow points of interest (POI) database. \n",
    "Use only the facts from the CONTEXT when answering the QUESTION.\n",
    "\n",
    "QUESTION: {question}\n",
    "\n",
    "CONTEXT: \n",
    "{context}\n",
    "\"\"\".strip()\n",
    "\n",
    "    context = \"\"\n",
    "    \n",
    "    for doc in search_results:\n",
    "        context = context + entry_template.format(**doc) + \"\\n\\n\"\n",
    "    \n",
    "    prompt = prompt_template.format(question=query, context=context).strip()\n",
    "    return prompt"
   ]
  },
  {
   "cell_type": "code",
   "execution_count": 11,
   "id": "13fd6a43",
   "metadata": {},
   "outputs": [],
   "source": [
    "def llm(prompt):\n",
    "    response = openai_client.chat.completions.create(\n",
    "        model='gpt-4o-mini',\n",
    "        messages=[{\"role\": \"user\", \"content\": prompt}]\n",
    "    )\n",
    "    \n",
    "    return response.choices[0].message.content"
   ]
  },
  {
   "cell_type": "code",
   "execution_count": 12,
   "id": "131ae423",
   "metadata": {},
   "outputs": [],
   "source": [
    "query = 'plan me a day in Krakow?'\n",
    "\n",
    "def rag(query):\n",
    "    search_results = search(query)\n",
    "    prompt = build_prompt(query, search_results)\n",
    "    answer = llm(prompt)\n",
    "    return answer"
   ]
  },
  {
   "cell_type": "code",
   "execution_count": 13,
   "id": "c060c6b3",
   "metadata": {},
   "outputs": [],
   "source": [
    "answear = rag(query)"
   ]
  },
  {
   "cell_type": "code",
   "execution_count": 14,
   "id": "73363882",
   "metadata": {},
   "outputs": [
    {
     "name": "stdout",
     "output_type": "stream",
     "text": [
      "Here's a suggested day plan in Krakow:\n",
      "\n",
      "**10:00 AM** – Start your day with a stroll through **Planty Park**. This scenic park encircles the historic Old Town and offers beautiful gardens, statues, and fountains.\n",
      "\n",
      "**11:00 AM** – Visit the **National Museum in Kraków** located on Aleja 3 Maja. This museum is the largest in Poland, featuring diverse art collections. (Opening hours: Mo-Fr 10:00-22:00; Sa-Su 11:00-22:00).\n",
      "\n",
      "**1:00 PM** – Enjoy lunch at **Me Thai**, a restaurant serving Asian and Thai cuisine, located on Kazimierza Brodzińskiego.\n",
      "\n",
      "**2:30 PM** – After lunch, head to **MOCAK (Museum of Contemporary Art in Kraków)**. This museum focuses on contemporary art and has a library and café as well. It’s a great spot to explore modern artistic expressions.\n",
      "\n",
      "**4:00 PM** – Check out the **Mikołaj Zyblikiewicz monument** near All Saints' Square. It's a historical memorial worth visiting during your walk.\n",
      "\n",
      "**5:00 PM** – If time permits, visit the **Benedictine Abbey in Tyniec**. It’s slightly out of the main city but is the oldest existing monastery in Poland.\n",
      "\n",
      "**7:00 PM** – Wrap up your day with a dessert at **Good Day Coffee & Cake**, where you can relax and unwind.\n",
      "\n",
      "This plan offers a mix of art, history, and local cuisine while allowing you to enjoy the beautiful surroundings of Krakow.\n"
     ]
    }
   ],
   "source": [
    "print(answear)"
   ]
  }
 ],
 "metadata": {
  "kernelspec": {
   "display_name": "travel_assitant-sAPdwvgP",
   "language": "python",
   "name": "python3"
  },
  "language_info": {
   "codemirror_mode": {
    "name": "ipython",
    "version": 3
   },
   "file_extension": ".py",
   "mimetype": "text/x-python",
   "name": "python",
   "nbconvert_exporter": "python",
   "pygments_lexer": "ipython3",
   "version": "3.13.4"
  }
 },
 "nbformat": 4,
 "nbformat_minor": 5
}
