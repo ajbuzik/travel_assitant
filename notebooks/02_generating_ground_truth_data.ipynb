{
 "cells": [
  {
   "cell_type": "code",
   "execution_count": 1,
   "id": "2c820e7f",
   "metadata": {},
   "outputs": [
    {
     "name": "stderr",
     "output_type": "stream",
     "text": [
      "c:\\Users\\malgo\\.virtualenvs\\travel_assitant-sAPdwvgP\\Lib\\site-packages\\tqdm\\auto.py:21: TqdmWarning: IProgress not found. Please update jupyter and ipywidgets. See https://ipywidgets.readthedocs.io/en/stable/user_install.html\n",
      "  from .autonotebook import tqdm as notebook_tqdm\n"
     ]
    }
   ],
   "source": [
    "from tqdm.auto import tqdm\n",
    "import pandas as pd\n",
    "from dotenv import load_dotenv\n",
    "import os\n",
    "from openai import OpenAI\n",
    "import json\n",
    "\n",
    "load_dotenv()\n",
    "\n",
    "OPENAI_API_KEY = os.getenv(\"OPENAI_API_KEY\")"
   ]
  },
  {
   "cell_type": "code",
   "execution_count": 2,
   "id": "bbf6b1a6",
   "metadata": {},
   "outputs": [],
   "source": [
    "df = pd.read_csv('../data/krakow_pois_for_rag.csv')\n",
    "\n",
    "text_columns = ['name','amenity','leisure','natural','tourism','historic','wiki_summary_en']"
   ]
  },
  {
   "cell_type": "code",
   "execution_count": 3,
   "id": "ab173df8",
   "metadata": {},
   "outputs": [],
   "source": [
    "openai_client = OpenAI(api_key=OPENAI_API_KEY)\n"
   ]
  },
  {
   "cell_type": "code",
   "execution_count": 4,
   "id": "e17ef518",
   "metadata": {},
   "outputs": [
    {
     "data": {
      "text/plain": [
       "(11694, 49)"
      ]
     },
     "execution_count": 4,
     "metadata": {},
     "output_type": "execute_result"
    }
   ],
   "source": [
    "df.shape"
   ]
  },
  {
   "cell_type": "markdown",
   "id": "19932744",
   "metadata": {},
   "source": [
    "There is too many records - I will select all with wiki_descitption and same number of rows w/o description."
   ]
  },
  {
   "cell_type": "code",
   "execution_count": 5,
   "id": "34bd0659",
   "metadata": {},
   "outputs": [],
   "source": [
    "df_with_wiki = df[df['wiki_summary_en'] != 'no information']\n"
   ]
  },
  {
   "cell_type": "code",
   "execution_count": 6,
   "id": "fd4cd71e",
   "metadata": {},
   "outputs": [
    {
     "data": {
      "text/plain": [
       "(335, 49)"
      ]
     },
     "execution_count": 6,
     "metadata": {},
     "output_type": "execute_result"
    }
   ],
   "source": [
    "df_with_wiki.shape"
   ]
  },
  {
   "cell_type": "code",
   "execution_count": 7,
   "id": "ea75c830",
   "metadata": {},
   "outputs": [],
   "source": [
    "df_without_wiki = df[df['wiki_summary_en'] == 'no information'].sample(df_with_wiki.shape[0], random_state=123)"
   ]
  },
  {
   "cell_type": "code",
   "execution_count": 8,
   "id": "c722237c",
   "metadata": {},
   "outputs": [
    {
     "data": {
      "text/plain": [
       "(335, 49)"
      ]
     },
     "execution_count": 8,
     "metadata": {},
     "output_type": "execute_result"
    }
   ],
   "source": [
    "df_without_wiki.shape"
   ]
  },
  {
   "cell_type": "code",
   "execution_count": 9,
   "id": "255faf2e",
   "metadata": {},
   "outputs": [],
   "source": [
    "df = pd.concat([df_with_wiki, df_without_wiki])\n"
   ]
  },
  {
   "cell_type": "code",
   "execution_count": 10,
   "id": "a57becdb",
   "metadata": {},
   "outputs": [
    {
     "data": {
      "text/plain": [
       "(670, 49)"
      ]
     },
     "execution_count": 10,
     "metadata": {},
     "output_type": "execute_result"
    }
   ],
   "source": [
    "df.shape"
   ]
  },
  {
   "cell_type": "code",
   "execution_count": 12,
   "id": "4815fd1a",
   "metadata": {},
   "outputs": [],
   "source": [
    "df.to_csv('../data/krakow_pois_selected.csv', index=False,header=True)"
   ]
  },
  {
   "cell_type": "code",
   "execution_count": 13,
   "id": "5904ebfd",
   "metadata": {},
   "outputs": [],
   "source": [
    "documents = df.to_dict(orient='records')"
   ]
  },
  {
   "cell_type": "code",
   "execution_count": 14,
   "id": "e0c67b88",
   "metadata": {},
   "outputs": [],
   "source": [
    "prompt_template = \"\"\"\n",
    "Generate a list of realistic and diverse questions that a traveler might ask a virtual travel assistant while visiting Kraków, Poland.\n",
    "\n",
    "Based on the given attraction record, which is Krakow's POI (Point of interest), create 5 complete, specific questions the user might ask about the attraction. \n",
    "Only create questions for categories that contain information different than \"No data available\".\n",
    "The questions must:\n",
    "\n",
    "* Be relevant to the details in the record.\n",
    "* Be clear and self-contained (not too short).\n",
    "* Use as few exact words from the record as possible while keeping the meaning.\n",
    "\n",
    "Attraction record format:\n",
    "\n",
    "phone : {phone}\n",
    "cemetery : {cemetery}\n",
    "emergency : {emergency}\n",
    "opening_hours : {opening_hours}\n",
    "website : {website}\n",
    "pets_allowed : {pets_allowed}\n",
    "geometry : {geometry}\n",
    "historic : {historic}\n",
    "wiki_summary_en : {wiki_summary_en}\n",
    "postal_code : {postal_code}\n",
    "toilets : {toilets}\n",
    "natural : {natural}\n",
    "description : {description}\n",
    "visiting_time : {visiting_time}\n",
    "leisure : {leisure}\n",
    "tourism : {tourism}\n",
    "public_transport : {public_transport}\n",
    "brand : {brand}\n",
    "alt_name : {alt_name}\n",
    "amenity : {amenity}\n",
    "reservation : {reservation}\n",
    "attraction : {attraction}\n",
    "highchair : {highchair}\n",
    "parking : {parking}\n",
    "swimming_pool : {swimming_pool}\n",
    "contact_phone : {contact_phone}\n",
    "community_centre : {community_centre}\n",
    "addr_street : {addr_street}\n",
    "contact_twitter : {contact_twitter}\n",
    "social_facility : {social_facility}\n",
    "contact_facebook : {contact_facebook}\n",
    "zoo : {zoo}\n",
    "email : {email}\n",
    "wheelchair : {wheelchair}\n",
    "cuisine : {cuisine}\n",
    "contact_website : {contact_website}\n",
    "internet_access : {internet_access}\n",
    "opening_hours_reception : {opening_hours_reception}\n",
    "guest_house : {guest_house}\n",
    "addr_city : {addr_city}\n",
    "contact_instagram : {contact_instagram}\n",
    "image : {image}\n",
    "location : {location}\n",
    "outdoor_seating : {outdoor_seating}\n",
    "museum : {museum}\n",
    "takeaway : {takeaway}\n",
    "smoking : {smoking}\n",
    "name : {name}\n",
    "id : {id} \n",
    "\n",
    "Provide the output in parsable JSON without using code blocks:\n",
    "\n",
    "{{\"questions\": [\"question1\", \"question2\", ..., \"question5\"]}}\n",
    "\n",
    "\"\"\".strip()"
   ]
  },
  {
   "cell_type": "code",
   "execution_count": 15,
   "id": "aa5927d7",
   "metadata": {},
   "outputs": [],
   "source": [
    "def generate_questions(doc):\n",
    "\n",
    "    prompt = prompt_template.format(**doc)\n",
    "\n",
    "    response = openai_client.chat.completions.create(\n",
    "        model='gpt-4o-mini',\n",
    "        messages=[{\"role\": \"user\", \"content\": prompt}]\n",
    "    )\n",
    "\n",
    "    json_response = response.choices[0].message.content\n",
    "    return json_response"
   ]
  },
  {
   "cell_type": "code",
   "execution_count": 16,
   "id": "0b9e6579",
   "metadata": {},
   "outputs": [
    {
     "data": {
      "text/plain": [
       "'Wierzynek'"
      ]
     },
     "execution_count": 16,
     "metadata": {},
     "output_type": "execute_result"
    }
   ],
   "source": [
    "documents[0]['name']"
   ]
  },
  {
   "cell_type": "code",
   "execution_count": 17,
   "id": "887aac59",
   "metadata": {},
   "outputs": [],
   "source": [
    "questions = generate_questions(documents[0])"
   ]
  },
  {
   "cell_type": "code",
   "execution_count": 18,
   "id": "40b2acd8",
   "metadata": {},
   "outputs": [
    {
     "data": {
      "text/plain": [
       "{'questions': ['What are the unique dining rooms available at Wierzynek and do they have different themes?',\n",
       "  \"Can you tell me about the restaurant's history and any notable figures who have dined there?\",\n",
       "  'How many guests can Wierzynek accommodate at once?',\n",
       "  \"What are the restaurant's opening hours during the week?\",\n",
       "  'Is there an official website where I can check the menu or make reservations for Wierzynek?']}"
      ]
     },
     "execution_count": 18,
     "metadata": {},
     "output_type": "execute_result"
    }
   ],
   "source": [
    "\n",
    "json.loads(questions)"
   ]
  },
  {
   "cell_type": "code",
   "execution_count": 19,
   "id": "0543e690",
   "metadata": {},
   "outputs": [],
   "source": [
    "results = {}"
   ]
  },
  {
   "cell_type": "code",
   "execution_count": null,
   "id": "f634ca88",
   "metadata": {},
   "outputs": [
    {
     "name": "stdout",
     "output_type": "stream",
     "text": [
      "{'questions': ['What services are provided at the Oddział Rehabilitacji Kardiologicznej?', 'Is there any information available about the visiting hours or schedules for the facility?', 'Are there any specific requirements for patients wishing to use the rehabilitation services offered here?', 'Can I find assistance for someone with mobility challenges at the Oddział Rehabilitacji Kardiologicznej?', 'Is it possible to contact the rehabilitation department for inquiries or more information?', \"Judging from the attraction's focus, are there any particular treatment programs offered?\"]}\n"
     ]
    }
   ],
   "source": [
    "import re"
   ]
  },
  {
   "cell_type": "code",
   "execution_count": 32,
   "id": "078e6f1d",
   "metadata": {},
   "outputs": [
    {
     "name": "stderr",
     "output_type": "stream",
     "text": [
      "100%|██████████| 670/670 [07:35<00:00,  1.47it/s] \n"
     ]
    }
   ],
   "source": [
    "for doc in tqdm(documents):\n",
    "        doc_id = doc['id']\n",
    "        if doc_id in results:  # Skip if already processed\n",
    "            continue\n",
    "\n",
    "\n",
    "        questions_raw = generate_questions(doc)\n",
    "        questions_raw = re.sub(r'(\\?\")\\s*([A-Z])', r'?\", \"\\2', questions_raw)\n",
    "        questions = json.loads(questions_raw)\n",
    "\n",
    "\n",
    "        results[doc_id] = questions['questions']"
   ]
  },
  {
   "cell_type": "code",
   "execution_count": 33,
   "id": "a16f3473",
   "metadata": {},
   "outputs": [],
   "source": [
    "final_results = []\n",
    "\n",
    "for doc_id, questions in results.items():\n",
    "    for q in questions:\n",
    "        final_results.append((doc_id, q))\n",
    "\n",
    "df_results = pd.DataFrame(final_results, columns=['id', 'question'])"
   ]
  },
  {
   "cell_type": "code",
   "execution_count": 34,
   "id": "c6de5d10",
   "metadata": {},
   "outputs": [
    {
     "data": {
      "text/html": [
       "<div>\n",
       "<style scoped>\n",
       "    .dataframe tbody tr th:only-of-type {\n",
       "        vertical-align: middle;\n",
       "    }\n",
       "\n",
       "    .dataframe tbody tr th {\n",
       "        vertical-align: top;\n",
       "    }\n",
       "\n",
       "    .dataframe thead th {\n",
       "        text-align: right;\n",
       "    }\n",
       "</style>\n",
       "<table border=\"1\" class=\"dataframe\">\n",
       "  <thead>\n",
       "    <tr style=\"text-align: right;\">\n",
       "      <th></th>\n",
       "      <th>id</th>\n",
       "      <th>question</th>\n",
       "    </tr>\n",
       "  </thead>\n",
       "  <tbody>\n",
       "    <tr>\n",
       "      <th>3330</th>\n",
       "      <td>9193</td>\n",
       "      <td>What is the best way to get to Bronowice SKA 0...</td>\n",
       "    </tr>\n",
       "    <tr>\n",
       "      <th>3331</th>\n",
       "      <td>9193</td>\n",
       "      <td>Could you provide information about the surrou...</td>\n",
       "    </tr>\n",
       "    <tr>\n",
       "      <th>3332</th>\n",
       "      <td>9193</td>\n",
       "      <td>Is there a place to park nearby if I plan to v...</td>\n",
       "    </tr>\n",
       "    <tr>\n",
       "      <th>3333</th>\n",
       "      <td>9193</td>\n",
       "      <td>Are there any notable landmarks or attractions...</td>\n",
       "    </tr>\n",
       "    <tr>\n",
       "      <th>3334</th>\n",
       "      <td>9193</td>\n",
       "      <td>What are some recommended activities or places...</td>\n",
       "    </tr>\n",
       "    <tr>\n",
       "      <th>3335</th>\n",
       "      <td>4984</td>\n",
       "      <td>What types of gardens can I expect to see at t...</td>\n",
       "    </tr>\n",
       "    <tr>\n",
       "      <th>3336</th>\n",
       "      <td>4984</td>\n",
       "      <td>Is there any designated area for leisure activ...</td>\n",
       "    </tr>\n",
       "    <tr>\n",
       "      <th>3337</th>\n",
       "      <td>4984</td>\n",
       "      <td>How would you suggest I spend my visiting time...</td>\n",
       "    </tr>\n",
       "    <tr>\n",
       "      <th>3338</th>\n",
       "      <td>4984</td>\n",
       "      <td>Are there any recommendations for nearby publi...</td>\n",
       "    </tr>\n",
       "    <tr>\n",
       "      <th>3339</th>\n",
       "      <td>4984</td>\n",
       "      <td>Are pets allowed in the garden at this location?</td>\n",
       "    </tr>\n",
       "  </tbody>\n",
       "</table>\n",
       "</div>"
      ],
      "text/plain": [
       "        id                                           question\n",
       "3330  9193  What is the best way to get to Bronowice SKA 0...\n",
       "3331  9193  Could you provide information about the surrou...\n",
       "3332  9193  Is there a place to park nearby if I plan to v...\n",
       "3333  9193  Are there any notable landmarks or attractions...\n",
       "3334  9193  What are some recommended activities or places...\n",
       "3335  4984  What types of gardens can I expect to see at t...\n",
       "3336  4984  Is there any designated area for leisure activ...\n",
       "3337  4984  How would you suggest I spend my visiting time...\n",
       "3338  4984  Are there any recommendations for nearby publi...\n",
       "3339  4984   Are pets allowed in the garden at this location?"
      ]
     },
     "execution_count": 34,
     "metadata": {},
     "output_type": "execute_result"
    }
   ],
   "source": [
    "df_results.tail(10)"
   ]
  },
  {
   "cell_type": "code",
   "execution_count": 35,
   "id": "f3729411",
   "metadata": {},
   "outputs": [
    {
     "data": {
      "text/plain": [
       "(3340, 2)"
      ]
     },
     "execution_count": 35,
     "metadata": {},
     "output_type": "execute_result"
    }
   ],
   "source": [
    "df_results.shape"
   ]
  },
  {
   "cell_type": "code",
   "execution_count": 36,
   "id": "d16c1237",
   "metadata": {},
   "outputs": [],
   "source": [
    "df_results.to_csv('../data/ground-truth-retrieval.csv', index=False)"
   ]
  },
  {
   "cell_type": "code",
   "execution_count": null,
   "id": "b1b9091b",
   "metadata": {},
   "outputs": [],
   "source": []
  }
 ],
 "metadata": {
  "kernelspec": {
   "display_name": "travel_assitant-sAPdwvgP",
   "language": "python",
   "name": "python3"
  },
  "language_info": {
   "codemirror_mode": {
    "name": "ipython",
    "version": 3
   },
   "file_extension": ".py",
   "mimetype": "text/x-python",
   "name": "python",
   "nbconvert_exporter": "python",
   "pygments_lexer": "ipython3",
   "version": "3.13.4"
  }
 },
 "nbformat": 4,
 "nbformat_minor": 5
}
